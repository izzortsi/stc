{
 "cells": [
  {
   "cell_type": "markdown",
   "metadata": {
    "collapsed": false
   },
   "source": [
    "# Analyse References of Paper to Find an Answer\n",
    "\n",
    "Following example shows how to extract references from the document and do a semantic search over the documents and all its references\n",
    "\n",
    "Optionally, start Summa server to enhance performance of queries to STC"
   ]
  },
  {
   "cell_type": "code",
   "execution_count": null,
   "metadata": {
    "collapsed": false
   },
   "outputs": [],
   "source": [
    "import logging\n",
    "import sys\n",
    "\n",
    "from stc_geck.advices import BaseDocumentHolder\n",
    "from cybrex.cybrex_ai import CybrexAI\n",
    "\n",
    "logging.basicConfig(stream=sys.stdout, level=logging.INFO)\n",
    "\n",
    "cybrex = CybrexAI()\n",
    "query = 'What drugs are used for haemophilia treatment?'\n",
    "seed_doi = '10.1111/j.1365-2516.2007.01474.x'\n",
    "await cybrex.start()"
   ]
  },
  {
   "cell_type": "code",
   "execution_count": null,
   "outputs": [],
   "source": [
    "documents = await cybrex.get_documents(f'id.dois:{seed_doi}', n_documents=1)\n",
    "seed_document = documents[0].document\n",
    "related_document_ids = {f'id.dois:{seed_doi}'}\n",
    "\n",
    "# Get out references\n",
    "for reference in seed_document['references']:\n",
    "    related_document_ids.add(f'id.dois:{reference[\"doi\"]}')\n",
    "\n",
    "# Get in references\n",
    "referencing_documents = await cybrex.get_documents(f'rd:{seed_doi})', n_documents=100)\n",
    "for referencing_document in referencing_documents:\n",
    "    referencing_document_holder = BaseDocumentHolder(referencing_document)\n",
    "    related_document_ids.add(referencing_document_holder.get_internal_id())\n",
    "\n",
    "print('Following documents will be queries:', related_document_ids)\n",
    "related_documents = await cybrex.get_documents(' '.join(related_document_ids), n_documents=100)"
   ],
   "metadata": {
    "collapsed": false
   }
  },
  {
   "cell_type": "code",
   "execution_count": null,
   "outputs": [],
   "source": [
    "related_chunks = await cybrex.semantic_search_in_documents(query, related_documents, n_chunks=10, minimum_score=0.5, skip_downloading_pdf=False)"
   ],
   "metadata": {
    "collapsed": false
   }
  },
  {
   "cell_type": "code",
   "execution_count": null,
   "outputs": [],
   "source": [
    "related_chunks[:10]"
   ],
   "metadata": {
    "collapsed": false
   }
  }
 ],
 "metadata": {
  "kernelspec": {
   "display_name": "Python 3",
   "language": "python",
   "name": "python3"
  },
  "language_info": {
   "codemirror_mode": {
    "name": "ipython",
    "version": 3
   },
   "file_extension": ".py",
   "mimetype": "text/x-python",
   "name": "python",
   "nbconvert_exporter": "python",
   "pygments_lexer": "ipython3",
   "version": "3.11.3"
  }
 },
 "nbformat": 4,
 "nbformat_minor": 0
}
