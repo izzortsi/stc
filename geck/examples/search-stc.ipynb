{
 "cells": [
  {
   "cell_type": "markdown",
   "metadata": {
    "collapsed": false
   },
   "source": [
    "# Examples\n",
    "\n",
    "Connects to IPFS and instantiate configured indices for searching\n",
    "It will take a time depending on your IPFS performance"
   ]
  },
  {
   "cell_type": "code",
   "execution_count": 1,
   "metadata": {
    "collapsed": false
   },
   "outputs": [],
   "source": [
    "from stc_geck.client import StcGeck\n",
    "geck = StcGeck(\n",
    "    ipfs_http_base_url='http://127.0.0.1:8080',\n",
    "    timeout=300,\n",
    ")\n",
    "await geck.start()"
   ]
  },
  {
   "cell_type": "markdown",
   "metadata": {
    "collapsed": false
   },
   "source": [
    "GECK encapsulates Python client to Summa. It can be either external stand-alone server or embed server, but details are hidden behind `SummaClient` interface."
   ]
  },
  {
   "cell_type": "code",
   "execution_count": 2,
   "metadata": {
    "collapsed": false
   },
   "outputs": [],
   "source": [
    "summa_client = geck.get_summa_client()"
   ]
  },
  {
   "cell_type": "markdown",
   "metadata": {
    "collapsed": false
   },
   "source": [
    "Match search returns top-5 documents which contain `additive manufacturing` in their title, abstract or content."
   ]
  },
  {
   "cell_type": "code",
   "execution_count": 3,
   "metadata": {
    "collapsed": false
   },
   "outputs": [
    {
     "name": "stdout",
     "output_type": "stream",
     "text": [
      "Title: Research on Gradient Additive Remanufacturing of Ultra-large Hot Forging Die Based on Automatic Wire Arc Additive Manufacturing Technology\n",
      "Authors: [{'family': 'Hong', 'given': 'Xiaoying', 'sequence': 'first'}, {'family': 'Xiao', 'given': 'Guiqian', 'sequence': 'additional'}, {'family': 'Zhang', 'given': 'Yancheng', 'sequence': 'additional'}, {'family': 'Zhou', 'given': 'Jie', 'sequence': 'additional'}]\n",
      "ID: {'dois': ['10.21203/rs.3.rs-212116/v1']}\n",
      "Links: [{'cid': 'bafyb4idhyrmmv3y35kioq4crkwq2qgev22cgj2vz5td5r2hixermzdgyiu', 'extension': 'pdf', 'filesize': 2641562, 'md5': 'ff5707679c428842ea48c8699963a8a0', 'type': 'primary'}]\n",
      "Abstract: <abstract><header>Abstract</header>\n",
      "<p>In this paper, an automatic WAAM technology are proposed to realize the gradient additive remanufacturing of ultra-large hot forging dies. Firstly, a vertical ad\n",
      "\n",
      "Title: Additive Manufacturing Technologies: Rapid Prototyping to Direct Digital Manufacturing\n",
      "Authors: [{'name': 'Ian Gibson, David W. Rosen, Brent Stucker (auth.)'}]\n",
      "ID: {'dois': ['10.1007/978-1-4419-1120-9'], 'libgen_ids': [566869, 893984, 943187]}\n",
      "Links: [{'cid': 'bafyb4ifhgoqz4c6kghc5a5cuxfqlfpzzags6xar2qzapyltrhxmmzdvufm', 'extension': 'pdf', 'filesize': 12724678, 'md5': '0b2611fa299b6bd0904038562114e585', 'type': 'primary'}, {'cid': 'bafykbzacebyfx6ph42e4olj72zo3b6lphrjmzb7mheu4k47ecoifcio7du5ko', 'extension': 'pdf', 'filesize': 8711375, 'md5': '1d2db3b19f9562f7df40ab3be20cc428'}, {'cid': 'bafykbzacec3iauge26ukvh5vzvr6lo42msecwzkfk65jxouemul5pzw5trv5m', 'extension': 'pdf', 'filesize': 10117238, 'md5': '2956c90d54ca4d51a678a1cf1c0b9bef'}, {'cid': 'bafykbzacecu6jlq657l5s2yvhmwsj3u6luxqwhjxohlva2yl5vivaoitco4se', 'extension': 'pdf', 'filesize': 7238254, 'md5': '427c59fddc6144a0b195bc63be6359d9'}]\n",
      "Abstract: <abstract><p><i>Additive Manufacturing Technologies: Rapid Prototyping to Direct Digital Manufacturing</i> deals with various aspects of joining materials to form parts. Additive Manufacturing (AM) is\n",
      "\n",
      "Title: Thermo-Mechanical Behavior of Multi-Layer Deposition for Wire Arc Additive Manufacturing of Structural Steel: Wire Arc Additive Manufacturing\n",
      "Authors: [{'family': 'Kumar', 'given': 'Amritesh'}, {'family': 'Bag', 'given': 'Swarup'}, {'family': 'Srivastava', 'given': 'V. C.'}, {'family': 'Amin', 'given': 'M. Ruhul'}]\n",
      "ID: {'dois': ['10.1115/imece2022-88917']}\n",
      "Links: [{'cid': 'bafyb4idwmkdwjkiglv67oa7czaz7nqysqfedwg437r6iljxla7timyk5ae', 'extension': 'pdf', 'filesize': 3514640, 'md5': '88dd37e1b4345b0f2297774e29a16a8a', 'type': 'primary'}]\n",
      "Abstract: Abstract\n",
      "Wire arc additive manufacturing (WAAM) process, following the directed energy deposition (DED) technique, has evolved as one of the most prominent additive manufacturing (AM) technologies to \n",
      "\n",
      "Title: A LCA and LCC analysis of pure subtractive manufacturing, wire arc additive manufacturing, and selective laser melting approaches\n",
      "Authors: [{'family': 'Kokare', 'given': 'Samruddha', 'sequence': 'first'}, {'family': 'Oliveira', 'given': 'J.P.', 'sequence': 'additional'}, {'family': 'Godina', 'given': 'Radu', 'sequence': 'additional'}]\n",
      "ID: {'dois': ['10.1016/j.jmapro.2023.05.102']}\n",
      "Links: [{'cid': 'bafyb4idx5w4huvv4immrf4tmo2jcrlxgpnsulukvt5xkigs7ycbnwpdo2e', 'extension': 'pdf', 'filesize': 5350543, 'md5': 'b6dfb54c0742a4d8331b41377c1df76d', 'type': 'primary'}]\n",
      "Abstract: <abstract>The development of sustainable manufacturing solutions is gaining attention in the manufacturing sector due to increased awareness about climate change and the formulation of stricter enviro\n",
      "\n",
      "Title: Advanced solid-state welding based on computational manufacturing using the additive manufacturing process\n",
      "Authors: [{'family': 'Shah', 'given': 'Preet Ashok', 'sequence': 'first'}, {'family': 'Srinath', 'given': 'M. K.', 'sequence': 'additional'}, {'family': 'Gayathri', 'given': 'R.', 'sequence': 'additional'}, {'family': 'Puvandran', 'given': 'P.', 'sequence': 'additional'}, {'family': 'Selvaraj', 'given': 'Senthil Kumaran', 'orcid': '0000000199949424', 'sequence': 'additional'}]\n",
      "ID: {'dois': ['10.1007/s12008-023-01243-6']}\n",
      "Links: [{'cid': 'bafyb4ih4gel6ntcqxn5obmycz5hr4nwryqydppjt7rz7amtgd42qeiaf5y', 'extension': 'pdf', 'type': 'primary'}]\n",
      "Abstract: The world is undergoing a paradigm shift in how products are manufactured. The fourth industrial revolution, or Industry 4.0, is given greater importance by industries and companies worldwide as they \n",
      "\n"
     ]
    }
   ],
   "source": [
    "from stc_geck.advices import format_document\n",
    "\n",
    "\n",
    "documents = await summa_client.search_documents({\n",
    "    \"index_alias\": \"nexus_science\",\n",
    "    \"query\": {\n",
    "        \"match\": {\n",
    "            \"value\": \"additive manufacturing\",\n",
    "            \"query_parser_config\": {\"default_fields\": [\"abstract\", \"title\", \"content\"]}\n",
    "        }\n",
    "    },\n",
    "    \"collectors\": [{\"top_docs\": {\"limit\": 5}}],\n",
    "    \"is_fieldnorms_scoring_enabled\": False,\n",
    "})\n",
    "for document in documents:\n",
    "    print(format_document(document) + '\\n')"
   ]
  },
  {
   "cell_type": "markdown",
   "metadata": {
    "collapsed": false
   },
   "source": [
    "Let's download PDFs. Helper function `download_document` stores files in the current directory."
   ]
  },
  {
   "cell_type": "code",
   "execution_count": 4,
   "metadata": {
    "collapsed": false
   },
   "outputs": [],
   "source": [
    "for document in documents:\n",
    "    await geck.download_document(document)"
   ]
  },
  {
   "cell_type": "markdown",
   "metadata": {
    "collapsed": false
   },
   "source": [
    "Below we have several more examples of search queries. More documentation on how to do queries to Summa can be found at https://izihawa.github.io/summa/core/query-dsl/"
   ]
  },
  {
   "cell_type": "code",
   "execution_count": 5,
   "metadata": {
    "collapsed": false
   },
   "outputs": [
    {
     "name": "stdout",
     "output_type": "stream",
     "text": [
      "Title: Long COVID Diary - Design and Development of a Support Application for People with Long COVID\n",
      "Authors: [{'family': 'Hausberger', 'given': 'Andreas', 'sequence': 'first'}, {'family': 'Baranyi', 'given': 'Rene', 'sequence': 'additional'}, {'family': 'Winkler', 'given': 'Sylvia', 'sequence': 'additional'}, {'family': 'Tappeiner', 'given': 'Barbara', 'sequence': 'additional'}, {'family': 'Grechenig', 'given': 'Thomas', 'sequence': 'additional'}]\n",
      "ID: {'dois': ['10.1109/healthcom54947.2022.9982758']}\n",
      "Links: [{'cid': 'bafyb4ic2ztwiiwp2i5tfen7kc3hcg6df7qmyjevnd76n6if52fm3mzjruq', 'extension': 'pdf', 'type': 'primary'}]\n",
      "Abstract: Due to the COVID pandemic more and more people suffer from mid-to long-term problems associated with it. COVID can also cause a wide range of health issues over a longer period of time, which has been\n",
      "\n"
     ]
    }
   ],
   "source": [
    "# Term search in science collection\n",
    "documents = await summa_client.search_documents({\n",
    "    \"index_alias\": \"nexus_science\",\n",
    "    \"query\": {\"term\": {\"field\": \"id.dois\", \"value\": \"10.1109/healthcom54947.2022.9982758\"}},\n",
    "    \"collectors\": [{\"top_docs\": {\"limit\": 1}}],\n",
    "    \"is_fieldnorms_scoring_enabled\": False,\n",
    "})\n",
    "for document in documents:\n",
    "    print(format_document(document) + '\\n')"
   ]
  },
  {
   "cell_type": "code",
   "execution_count": 6,
   "metadata": {
    "collapsed": false
   },
   "outputs": [
    {
     "name": "stdout",
     "output_type": "stream",
     "text": [
      "Title: Fetal hemoglobin-containing cells have the same mean corpuscular hemoglobin as cells without fetal hemoglobin: a reciprocal relationship between gamma- and beta-globin gene expression in normal subjects and in those with high fetal hemoglobin production\n",
      "Authors: [{'family': 'Dover', 'given': 'GJ'}, {'family': 'Boyer', 'given': 'SH'}]\n",
      "ID: {'dois': ['10.1182/blood.v69.4.1109.1109']}\n",
      "Abstract: Abstract\n",
      "We have developed methodology that allows comparison of the mean corpuscular hemoglobin (MCH) of fetal hemoglobin (HbF)-containing red cells (F cells) with the MCH of non-F cells from the sam\n",
      "\n",
      "Title: Fetal hemoglobin-containing cells have the same mean corpuscular hemoglobin as cells without fetal hemoglobin: a reciprocal relationship between gamma- and beta-globin gene expression in normal subjects and in those with high fetal hemoglobin production\n",
      "Authors: [{'family': 'Dover', 'given': 'GJ'}, {'family': 'Boyer', 'given': 'SH'}]\n",
      "ID: {'dois': ['10.1182/blood.v69.4.1109.bloodjournal6941109']}\n",
      "Abstract: We have developed methodology that allows comparison of the mean corpuscular hemoglobin (MCH) of fetal hemoglobin (HbF)-containing red cells (F cells) with the MCH of non-F cells from the same individ\n",
      "\n",
      "Title: Fetal hemoglobin production in cultures of primitive and mature human erythroid progenitors: differentiation affects the quantity of fetal hemoglobin produced per fetal-hemoglobin-containing cell\n",
      "Authors: [{'family': 'Dover', 'given': 'GJ'}, {'family': 'Chan', 'given': 'T'}, {'family': 'Sieber', 'given': 'F'}]\n",
      "ID: {'dois': ['10.1182/blood.v61.6.1242.1242']}\n",
      "Abstract: Abstract\n",
      "Single-cell microscopic immunodiffusion assays were used to determine the cellular mechanisms that regulate fetal hemoglobin (HbF) levels in cultures of primitive and late erythroid precursor\n",
      "\n",
      "Title: Fetal hemoglobin production in cultures of primitive and mature human erythroid progenitors: differentiation affects the quantity of fetal hemoglobin produced per fetal-hemoglobin-containing cell\n",
      "Authors: [{'family': 'Dover', 'given': 'GJ'}, {'family': 'Chan', 'given': 'T'}, {'family': 'Sieber', 'given': 'F'}]\n",
      "ID: {'dois': ['10.1182/blood.v61.6.1242.bloodjournal6161242']}\n",
      "Abstract: Single-cell microscopic immunodiffusion assays were used to determine the cellular mechanisms that regulate fetal hemoglobin (HbF) levels in cultures of primitive and late erythroid precursors obtaine\n",
      "\n",
      "Title: Fetal hemoglobin (HbF) synthesis in baboons, Papio cynocephalus. Analysis of fetal and adult hemoglobin synthesis during fetal development\n",
      "Authors: [{'family': 'De Simone', 'given': 'J'}, {'family': 'Mueller', 'given': 'AL'}]\n",
      "ID: {'dois': ['10.1182/blood.v53.1.19.bloodjournal53119']}\n",
      "Abstract: Fetal hemoglobin (HbF) and adult hemoglobin (HbA) synthesis was studied in fetal baboons, Papio cynocephalus, to determine the normal pattern of hemoglobin production during fetal development. Fetuses\n",
      "\n"
     ]
    }
   ],
   "source": [
    "# Complex query and count results too\n",
    "documents = await summa_client.search_documents({\n",
    "    \"index_alias\": \"nexus_science\",\n",
    "    \"query\": {\"boolean\": {\"subqueries\": [{\n",
    "        \"occur\": \"should\",\n",
    "        \"query\": {\n",
    "            \"match\": {\n",
    "                \"value\": \"hemoglobin\",\n",
    "                \"query_parser_config\": {\"default_fields\": [\"title\"]},\n",
    "             },\n",
    "        },\n",
    "    }, {\n",
    "        \"occur\": \"should\",\n",
    "        \"query\": {\n",
    "            \"match\": {\n",
    "                \"value\": \"fetal\",\n",
    "                \"query_parser_config\": {\"default_fields\": [\"title\"]},\n",
    "            },\n",
    "        },\n",
    "    }]}},\n",
    "    \"collectors\": [{\"top_docs\": {\"limit\": 5}}, {\"count\": {}}],\n",
    "    \"is_fieldnorms_scoring_enabled\": False,\n",
    "})\n",
    "for document in documents:\n",
    "    print(format_document(document) + '\\n')"
   ]
  }
 ],
 "metadata": {
  "kernelspec": {
   "display_name": "Python 3",
   "language": "python",
   "name": "python3"
  },
  "language_info": {
   "codemirror_mode": {
    "name": "ipython",
    "version": 3
   },
   "file_extension": ".py",
   "mimetype": "text/x-python",
   "name": "python",
   "nbconvert_exporter": "python",
   "pygments_lexer": "ipython3",
   "version": "3.11.3"
  }
 },
 "nbformat": 4,
 "nbformat_minor": 0
}
