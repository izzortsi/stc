{
 "cells": [
  {
   "cell_type": "code",
   "execution_count": null,
   "metadata": {
    "collapsed": true
   },
   "outputs": [],
   "source": [
    "from stc_geck.client import StcGeck\n",
    "geck = StcGeck(ipfs_http_base_url='http://127.0.0.1:8080', index_names=('nexus_science',))\n",
    "\n",
    "# Connects to IPFS and instantiate configured indices for searching\n",
    "await geck.start()"
   ]
  },
  {
   "cell_type": "code",
   "execution_count": null,
   "outputs": [],
   "source": [
    "summa_client = geck.get_summa_client()"
   ],
   "metadata": {
    "collapsed": false
   }
  },
  {
   "cell_type": "code",
   "execution_count": null,
   "outputs": [],
   "source": [
    "# Match search\n",
    "await summa_client.search([{\n",
    "    \"index_alias\": \"nexus_science\",\n",
    "    \"query\": {\"match\": {\"value\": \"hemoglobin\", \"query_parser_config\": {\"default_fields\": [\"title\"]}}},\n",
    "    \"collectors\": [{\"top_docs\": {\"limit\": 5}}],\n",
    "    \"is_fieldnorms_scoring_enabled\": False,\n",
    "}])"
   ],
   "metadata": {
    "collapsed": false
   }
  },
  {
   "cell_type": "code",
   "execution_count": null,
   "outputs": [],
   "source": [
    "# Term search in science collection\n",
    "await summa_client.search([{\n",
    "    \"index_alias\": \"nexus_science\",\n",
    "    \"query\": {\"term\": {\"field\": \"doi\", \"value\": \"10.1109/healthcom54947.2022.9982758\"}},\n",
    "    \"collectors\": [{\"top_docs\": {\"limit\": 1}}],\n",
    "    \"is_fieldnorms_scoring_enabled\": False,\n",
    "}])"
   ],
   "metadata": {
    "collapsed": false
   }
  },
  {
   "cell_type": "code",
   "execution_count": null,
   "outputs": [],
   "source": [
    "# Complex query and count results too\n",
    "SHOULD = 0\n",
    "MUST = 1\n",
    "MUST_NOT = 2\n",
    "\n",
    "await summa_client.search([{\n",
    "    \"index_alias\": \"nexus_science\",\n",
    "    \"query\": {\"boolean\": {\"subqueries\": [\n",
    "        {\"occur\": SHOULD, \"query\": {\"match\": {\"value\": \"hemoglobin\", \"query_parser_config\": {\"default_fields\": [\"title\"]}}}},\n",
    "        {\"occur\": SHOULD, \"query\": {\"match\": {\"value\": \"fetal\", \"query_parser_config\": {\"default_fields\": [\"title\"]}}}},\n",
    "    ]}},\n",
    "    \"collectors\": [{\"top_docs\": {\"limit\": 5}}, {\"count\": {}}],\n",
    "    \"is_fieldnorms_scoring_enabled\": False,\n",
    "}])"
   ],
   "metadata": {
    "collapsed": false
   }
  }
 ],
 "metadata": {
  "kernelspec": {
   "display_name": "Python 3",
   "language": "python",
   "name": "python3"
  },
  "language_info": {
   "codemirror_mode": {
    "name": "ipython",
    "version": 2
   },
   "file_extension": ".py",
   "mimetype": "text/x-python",
   "name": "python",
   "nbconvert_exporter": "python",
   "pygments_lexer": "ipython2",
   "version": "2.7.6"
  }
 },
 "nbformat": 4,
 "nbformat_minor": 0
}
