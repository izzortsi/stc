{
 "cells": [
  {
   "cell_type": "code",
   "execution_count": null,
   "metadata": {
    "collapsed": true
   },
   "outputs": [],
   "source": [
    "from stc_geck.client import StcGeck\n",
    "geck = StcGeck(ipfs_http_base_url='http://10.1.2.1:8080', index_names=('nexus_science',))\n",
    "\n",
    "# Connects to IPFS and instantiate configured indices for searching\n",
    "await geck.start()"
   ]
  },
  {
   "cell_type": "code",
   "execution_count": null,
   "outputs": [],
   "source": [
    "summa_client = geck.get_summa_client()"
   ],
   "metadata": {
    "collapsed": false
   }
  },
  {
   "cell_type": "code",
   "execution_count": null,
   "outputs": [],
   "source": [
    "# Match search\n",
    "await summa_client.search([{\n",
    "    \"index_alias\": \"nexus_science\",\n",
    "    \"query\": {\"match\": {\"value\": \"hemoglobin\", \"query_parser_config\": {\"default_fields\": [\"title\"]}}},\n",
    "    \"collectors\": [{\"top_docs\": {\"limit\": 5}}],\n",
    "    \"is_fieldnorms_scoring_enabled\": False,\n",
    "}])"
   ],
   "metadata": {
    "collapsed": false
   }
  },
  {
   "cell_type": "code",
   "execution_count": null,
   "outputs": [],
   "source": [
    "# Term search in science collection\n",
    "await summa_client.search([{\n",
    "    \"index_alias\": \"nexus_science\",\n",
    "    \"query\": {\"term\": {\"field\": \"doi\", \"value\": \"10.1109/healthcom54947.2022.9982758\"}},\n",
    "    \"collectors\": [{\"top_docs\": {\"limit\": 1}}],\n",
    "    \"is_fieldnorms_scoring_enabled\": False,\n",
    "}])"
   ],
   "metadata": {
    "collapsed": false
   }
  },
  {
   "cell_type": "code",
   "execution_count": null,
   "outputs": [],
   "source": [
    "# Complex query and count results too\n",
    "SHOULD = 0\n",
    "MUST = 1\n",
    "MUST_NOT = 2\n",
    "\n",
    "await summa_client.search([{\n",
    "    \"index_alias\": \"nexus_science\",\n",
    "    \"query\": {\"boolean\": {\"subqueries\": [\n",
    "        {\"occur\": SHOULD, \"query\": {\"match\": {\"value\": \"hemoglobin\", \"query_parser_config\": {\"default_fields\": [\"title\"]}}}},\n",
    "        {\"occur\": SHOULD, \"query\": {\"match\": {\"value\": \"fetal\", \"query_parser_config\": {\"default_fields\": [\"title\"]}}}},\n",
    "    ]}},\n",
    "    \"collectors\": [{\"top_docs\": {\"limit\": 5}}, {\"count\": {}}],\n",
    "    \"is_fieldnorms_scoring_enabled\": False,\n",
    "}])"
   ],
   "metadata": {
    "collapsed": false
   }
  },
  {
   "cell_type": "code",
   "execution_count": 1,
   "outputs": [
    {
     "name": "stdout",
     "output_type": "stream",
     "text": [
      "Requirement already satisfied: InstructorEmbedding in /Users/pasha/stc/venv/lib/python3.10/site-packages (1.0.1)\r\n",
      "\r\n",
      "\u001B[1m[\u001B[0m\u001B[34;49mnotice\u001B[0m\u001B[1;39;49m]\u001B[0m\u001B[39;49m A new release of pip available: \u001B[0m\u001B[31;49m22.3.1\u001B[0m\u001B[39;49m -> \u001B[0m\u001B[32;49m23.1.2\u001B[0m\r\n",
      "\u001B[1m[\u001B[0m\u001B[34;49mnotice\u001B[0m\u001B[1;39;49m]\u001B[0m\u001B[39;49m To update, run: \u001B[0m\u001B[32;49mpip install --upgrade pip\u001B[0m\r\n",
      "Note: you may need to restart the kernel to use updated packages.\n"
     ]
    }
   ],
   "source": [],
   "metadata": {
    "collapsed": false
   }
  },
  {
   "cell_type": "code",
   "execution_count": 2,
   "outputs": [
    {
     "ename": "KeyboardInterrupt",
     "evalue": "",
     "output_type": "error",
     "traceback": [
      "\u001B[0;31m---------------------------------------------------------------------------\u001B[0m",
      "\u001B[0;31mKeyboardInterrupt\u001B[0m                         Traceback (most recent call last)",
      "Cell \u001B[0;32mIn[2], line 1\u001B[0m\n\u001B[0;32m----> 1\u001B[0m \u001B[38;5;28;01mfrom\u001B[39;00m \u001B[38;5;21;01mInstructorEmbedding\u001B[39;00m \u001B[38;5;28;01mimport\u001B[39;00m INSTRUCTOR\n\u001B[1;32m      2\u001B[0m model \u001B[38;5;241m=\u001B[39m INSTRUCTOR(\u001B[38;5;124m'\u001B[39m\u001B[38;5;124mhkunlp/instructor-large\u001B[39m\u001B[38;5;124m'\u001B[39m)\n",
      "File \u001B[0;32m~/stc/venv/lib/python3.10/site-packages/InstructorEmbedding/__init__.py:1\u001B[0m\n\u001B[0;32m----> 1\u001B[0m \u001B[38;5;28;01mfrom\u001B[39;00m \u001B[38;5;21;01m.\u001B[39;00m\u001B[38;5;21;01minstructor\u001B[39;00m \u001B[38;5;28;01mimport\u001B[39;00m \u001B[38;5;241m*\u001B[39m\n",
      "File \u001B[0;32m~/stc/venv/lib/python3.10/site-packages/InstructorEmbedding/instructor.py:2\u001B[0m\n\u001B[1;32m      1\u001B[0m \u001B[38;5;66;03m# This script is based on the modifications from https://github.com/UKPLab/sentence-transformers\u001B[39;00m\n\u001B[0;32m----> 2\u001B[0m \u001B[38;5;28;01mimport\u001B[39;00m \u001B[38;5;21;01mtorch\u001B[39;00m\n\u001B[1;32m      3\u001B[0m \u001B[38;5;28;01mimport\u001B[39;00m \u001B[38;5;21;01mos\u001B[39;00m\n\u001B[1;32m      4\u001B[0m \u001B[38;5;28;01mimport\u001B[39;00m \u001B[38;5;21;01mjson\u001B[39;00m\n",
      "File \u001B[0;32m~/stc/venv/lib/python3.10/site-packages/torch/__init__.py:1247\u001B[0m\n\u001B[1;32m   1245\u001B[0m \u001B[38;5;28;01mfrom\u001B[39;00m \u001B[38;5;21;01mtorch\u001B[39;00m \u001B[38;5;28;01mimport\u001B[39;00m testing \u001B[38;5;28;01mas\u001B[39;00m testing\n\u001B[1;32m   1246\u001B[0m \u001B[38;5;28;01mimport\u001B[39;00m \u001B[38;5;21;01mtorch\u001B[39;00m\u001B[38;5;21;01m.\u001B[39;00m\u001B[38;5;21;01mbackends\u001B[39;00m\u001B[38;5;21;01m.\u001B[39;00m\u001B[38;5;21;01mcuda\u001B[39;00m\n\u001B[0;32m-> 1247\u001B[0m \u001B[38;5;28;01mimport\u001B[39;00m \u001B[38;5;21;01mtorch\u001B[39;00m\u001B[38;5;21;01m.\u001B[39;00m\u001B[38;5;21;01mbackends\u001B[39;00m\u001B[38;5;21;01m.\u001B[39;00m\u001B[38;5;21;01mmps\u001B[39;00m\n\u001B[1;32m   1248\u001B[0m \u001B[38;5;28;01mimport\u001B[39;00m \u001B[38;5;21;01mtorch\u001B[39;00m\u001B[38;5;21;01m.\u001B[39;00m\u001B[38;5;21;01mbackends\u001B[39;00m\u001B[38;5;21;01m.\u001B[39;00m\u001B[38;5;21;01mcudnn\u001B[39;00m\n\u001B[1;32m   1249\u001B[0m \u001B[38;5;28;01mimport\u001B[39;00m \u001B[38;5;21;01mtorch\u001B[39;00m\u001B[38;5;21;01m.\u001B[39;00m\u001B[38;5;21;01mbackends\u001B[39;00m\u001B[38;5;21;01m.\u001B[39;00m\u001B[38;5;21;01mmkl\u001B[39;00m\n",
      "File \u001B[0;32m~/stc/venv/lib/python3.10/site-packages/torch/backends/mps/__init__.py:30\u001B[0m\n\u001B[1;32m     28\u001B[0m \u001B[38;5;28;01mif\u001B[39;00m is_built():\n\u001B[1;32m     29\u001B[0m     \u001B[38;5;28;01mfrom\u001B[39;00m \u001B[38;5;21;01m.\u001B[39;00m\u001B[38;5;21;01m.\u001B[39;00m\u001B[38;5;21;01m.\u001B[39;00m\u001B[38;5;21;01mlibrary\u001B[39;00m \u001B[38;5;28;01mimport\u001B[39;00m Library \u001B[38;5;28;01mas\u001B[39;00m _Library\n\u001B[0;32m---> 30\u001B[0m     \u001B[38;5;28;01mfrom\u001B[39;00m \u001B[38;5;21;01m.\u001B[39;00m\u001B[38;5;21;01m.\u001B[39;00m\u001B[38;5;21;01m.\u001B[39;00m\u001B[38;5;21;01m_refs\u001B[39;00m \u001B[38;5;28;01mimport\u001B[39;00m var_mean \u001B[38;5;28;01mas\u001B[39;00m _var_mean, native_group_norm \u001B[38;5;28;01mas\u001B[39;00m _native_group_norm\n\u001B[1;32m     31\u001B[0m     \u001B[38;5;28;01mfrom\u001B[39;00m \u001B[38;5;21;01m.\u001B[39;00m\u001B[38;5;21;01m.\u001B[39;00m\u001B[38;5;21;01m.\u001B[39;00m\u001B[38;5;21;01m_decomp\u001B[39;00m\u001B[38;5;21;01m.\u001B[39;00m\u001B[38;5;21;01mdecompositions\u001B[39;00m \u001B[38;5;28;01mimport\u001B[39;00m native_group_norm_backward \u001B[38;5;28;01mas\u001B[39;00m _native_group_norm_backward\n\u001B[1;32m     32\u001B[0m     _lib \u001B[38;5;241m=\u001B[39m _Library(\u001B[38;5;124m\"\u001B[39m\u001B[38;5;124maten\u001B[39m\u001B[38;5;124m\"\u001B[39m, \u001B[38;5;124m\"\u001B[39m\u001B[38;5;124mIMPL\u001B[39m\u001B[38;5;124m\"\u001B[39m)\n",
      "File \u001B[0;32m~/stc/venv/lib/python3.10/site-packages/torch/_refs/__init__.py:14\u001B[0m\n\u001B[1;32m     10\u001B[0m \u001B[38;5;28;01mfrom\u001B[39;00m \u001B[38;5;21;01mtyping\u001B[39;00m \u001B[38;5;28;01mimport\u001B[39;00m Callable, List, Optional, overload, Sequence, Tuple, Union\n\u001B[1;32m     12\u001B[0m \u001B[38;5;28;01mimport\u001B[39;00m \u001B[38;5;21;01mtorch\u001B[39;00m\n\u001B[0;32m---> 14\u001B[0m \u001B[38;5;28;01mimport\u001B[39;00m \u001B[38;5;21;01mtorch\u001B[39;00m\u001B[38;5;21;01m.\u001B[39;00m\u001B[38;5;21;01m_prims\u001B[39;00m \u001B[38;5;28;01mas\u001B[39;00m \u001B[38;5;21;01mprims\u001B[39;00m\n\u001B[1;32m     15\u001B[0m \u001B[38;5;28;01mimport\u001B[39;00m \u001B[38;5;21;01mtorch\u001B[39;00m\u001B[38;5;21;01m.\u001B[39;00m\u001B[38;5;21;01m_prims_common\u001B[39;00m \u001B[38;5;28;01mas\u001B[39;00m \u001B[38;5;21;01mutils\u001B[39;00m\n\u001B[1;32m     16\u001B[0m \u001B[38;5;28;01mfrom\u001B[39;00m \u001B[38;5;21;01mtorch\u001B[39;00m \u001B[38;5;28;01mimport\u001B[39;00m sym_float, sym_int\n",
      "File \u001B[0;32m~/stc/venv/lib/python3.10/site-packages/torch/_prims/__init__.py:33\u001B[0m\n\u001B[1;32m     17\u001B[0m \u001B[38;5;28;01mfrom\u001B[39;00m \u001B[38;5;21;01mtorch\u001B[39;00m\u001B[38;5;21;01m.\u001B[39;00m\u001B[38;5;21;01m_prims_common\u001B[39;00m \u001B[38;5;28;01mimport\u001B[39;00m (\n\u001B[1;32m     18\u001B[0m     check,\n\u001B[1;32m     19\u001B[0m     Dim,\n\u001B[0;32m   (...)\u001B[0m\n\u001B[1;32m     30\u001B[0m     type_to_dtype,\n\u001B[1;32m     31\u001B[0m )\n\u001B[1;32m     32\u001B[0m \u001B[38;5;28;01mfrom\u001B[39;00m \u001B[38;5;21;01mtorch\u001B[39;00m\u001B[38;5;21;01m.\u001B[39;00m\u001B[38;5;21;01m_prims_common\u001B[39;00m\u001B[38;5;21;01m.\u001B[39;00m\u001B[38;5;21;01mwrappers\u001B[39;00m \u001B[38;5;28;01mimport\u001B[39;00m backwards_not_supported\n\u001B[0;32m---> 33\u001B[0m \u001B[38;5;28;01mfrom\u001B[39;00m \u001B[38;5;21;01mtorch\u001B[39;00m\u001B[38;5;21;01m.\u001B[39;00m\u001B[38;5;21;01m_subclasses\u001B[39;00m\u001B[38;5;21;01m.\u001B[39;00m\u001B[38;5;21;01mfake_tensor\u001B[39;00m \u001B[38;5;28;01mimport\u001B[39;00m FakeTensor, FakeTensorMode\n\u001B[1;32m     34\u001B[0m \u001B[38;5;28;01mfrom\u001B[39;00m \u001B[38;5;21;01mtorch\u001B[39;00m\u001B[38;5;21;01m.\u001B[39;00m\u001B[38;5;21;01moverrides\u001B[39;00m \u001B[38;5;28;01mimport\u001B[39;00m handle_torch_function, has_torch_function\n\u001B[1;32m     35\u001B[0m \u001B[38;5;28;01mfrom\u001B[39;00m \u001B[38;5;21;01mtorch\u001B[39;00m\u001B[38;5;21;01m.\u001B[39;00m\u001B[38;5;21;01mutils\u001B[39;00m\u001B[38;5;21;01m.\u001B[39;00m\u001B[38;5;21;01m_pytree\u001B[39;00m \u001B[38;5;28;01mimport\u001B[39;00m tree_flatten, tree_map, tree_unflatten\n",
      "File \u001B[0;32m~/stc/venv/lib/python3.10/site-packages/torch/_subclasses/__init__.py:3\u001B[0m\n\u001B[1;32m      1\u001B[0m \u001B[38;5;28;01mimport\u001B[39;00m \u001B[38;5;21;01mtorch\u001B[39;00m\n\u001B[0;32m----> 3\u001B[0m \u001B[38;5;28;01mfrom\u001B[39;00m \u001B[38;5;21;01mtorch\u001B[39;00m\u001B[38;5;21;01m.\u001B[39;00m\u001B[38;5;21;01m_subclasses\u001B[39;00m\u001B[38;5;21;01m.\u001B[39;00m\u001B[38;5;21;01mfake_tensor\u001B[39;00m \u001B[38;5;28;01mimport\u001B[39;00m (\n\u001B[1;32m      4\u001B[0m     DynamicOutputShapeException,\n\u001B[1;32m      5\u001B[0m     FakeTensor,\n\u001B[1;32m      6\u001B[0m     FakeTensorMode,\n\u001B[1;32m      7\u001B[0m     UnsupportedFakeTensorException,\n\u001B[1;32m      8\u001B[0m )\n\u001B[1;32m     10\u001B[0m \u001B[38;5;28;01mfrom\u001B[39;00m \u001B[38;5;21;01mtorch\u001B[39;00m\u001B[38;5;21;01m.\u001B[39;00m\u001B[38;5;21;01m_subclasses\u001B[39;00m\u001B[38;5;21;01m.\u001B[39;00m\u001B[38;5;21;01mfake_utils\u001B[39;00m \u001B[38;5;28;01mimport\u001B[39;00m CrossRefFakeMode\n\u001B[1;32m     12\u001B[0m __all__ \u001B[38;5;241m=\u001B[39m [\n\u001B[1;32m     13\u001B[0m     \u001B[38;5;124m\"\u001B[39m\u001B[38;5;124mFakeTensor\u001B[39m\u001B[38;5;124m\"\u001B[39m,\n\u001B[1;32m     14\u001B[0m     \u001B[38;5;124m\"\u001B[39m\u001B[38;5;124mFakeTensorMode\u001B[39m\u001B[38;5;124m\"\u001B[39m,\n\u001B[0;32m   (...)\u001B[0m\n\u001B[1;32m     17\u001B[0m     \u001B[38;5;124m\"\u001B[39m\u001B[38;5;124mCrossRefFakeMode\u001B[39m\u001B[38;5;124m\"\u001B[39m,\n\u001B[1;32m     18\u001B[0m ]\n",
      "File \u001B[0;32m~/stc/venv/lib/python3.10/site-packages/torch/_subclasses/fake_tensor.py:13\u001B[0m\n\u001B[1;32m     10\u001B[0m \u001B[38;5;28;01mfrom\u001B[39;00m \u001B[38;5;21;01mweakref\u001B[39;00m \u001B[38;5;28;01mimport\u001B[39;00m ReferenceType\n\u001B[1;32m     12\u001B[0m \u001B[38;5;28;01mimport\u001B[39;00m \u001B[38;5;21;01mtorch\u001B[39;00m\n\u001B[0;32m---> 13\u001B[0m \u001B[38;5;28;01mfrom\u001B[39;00m \u001B[38;5;21;01mtorch\u001B[39;00m\u001B[38;5;21;01m.\u001B[39;00m\u001B[38;5;21;01m_guards\u001B[39;00m \u001B[38;5;28;01mimport\u001B[39;00m Source\n\u001B[1;32m     14\u001B[0m \u001B[38;5;28;01mfrom\u001B[39;00m \u001B[38;5;21;01mtorch\u001B[39;00m\u001B[38;5;21;01m.\u001B[39;00m\u001B[38;5;21;01m_ops\u001B[39;00m \u001B[38;5;28;01mimport\u001B[39;00m OpOverload\n\u001B[1;32m     15\u001B[0m \u001B[38;5;28;01mfrom\u001B[39;00m \u001B[38;5;21;01mtorch\u001B[39;00m\u001B[38;5;21;01m.\u001B[39;00m\u001B[38;5;21;01m_prims_common\u001B[39;00m \u001B[38;5;28;01mimport\u001B[39;00m (\n\u001B[1;32m     16\u001B[0m     elementwise_dtypes,\n\u001B[1;32m     17\u001B[0m     ELEMENTWISE_TYPE_PROMOTION_KIND,\n\u001B[1;32m     18\u001B[0m     is_float_dtype,\n\u001B[1;32m     19\u001B[0m     is_integer_dtype,\n\u001B[1;32m     20\u001B[0m )\n",
      "File \u001B[0;32m~/stc/venv/lib/python3.10/site-packages/torch/_guards.py:14\u001B[0m\n\u001B[1;32m     11\u001B[0m \u001B[38;5;66;03m# TODO(voz): Stolen pattern, not sure why this is the case,\u001B[39;00m\n\u001B[1;32m     12\u001B[0m \u001B[38;5;66;03m# but mypy complains.\u001B[39;00m\n\u001B[1;32m     13\u001B[0m \u001B[38;5;28;01mtry\u001B[39;00m:\n\u001B[0;32m---> 14\u001B[0m     \u001B[38;5;28;01mimport\u001B[39;00m \u001B[38;5;21;01msympy\u001B[39;00m  \u001B[38;5;66;03m# type: ignore[import]\u001B[39;00m\n\u001B[1;32m     15\u001B[0m \u001B[38;5;28;01mexcept\u001B[39;00m \u001B[38;5;167;01mImportError\u001B[39;00m:\n\u001B[1;32m     16\u001B[0m     log\u001B[38;5;241m.\u001B[39mwarning(\u001B[38;5;124m\"\u001B[39m\u001B[38;5;124mNo sympy found\u001B[39m\u001B[38;5;124m\"\u001B[39m)\n",
      "File \u001B[0;32m~/stc/venv/lib/python3.10/site-packages/sympy/__init__.py:51\u001B[0m\n\u001B[1;32m     47\u001B[0m         \u001B[38;5;28;01mraise\u001B[39;00m \u001B[38;5;167;01mRuntimeError\u001B[39;00m(\u001B[38;5;124m\"\u001B[39m\u001B[38;5;124munrecognized value for SYMPY_DEBUG: \u001B[39m\u001B[38;5;132;01m%s\u001B[39;00m\u001B[38;5;124m\"\u001B[39m \u001B[38;5;241m%\u001B[39m\n\u001B[1;32m     48\u001B[0m                            debug_str)\n\u001B[1;32m     49\u001B[0m SYMPY_DEBUG \u001B[38;5;241m=\u001B[39m __sympy_debug()  \u001B[38;5;66;03m# type: bool\u001B[39;00m\n\u001B[0;32m---> 51\u001B[0m \u001B[38;5;28;01mfrom\u001B[39;00m \u001B[38;5;21;01m.\u001B[39;00m\u001B[38;5;21;01mcore\u001B[39;00m \u001B[38;5;28;01mimport\u001B[39;00m (sympify, SympifyError, cacheit, Basic, Atom,\n\u001B[1;32m     52\u001B[0m         preorder_traversal, S, Expr, AtomicExpr, UnevaluatedExpr, Symbol,\n\u001B[1;32m     53\u001B[0m         Wild, Dummy, symbols, var, Number, Float, Rational, Integer,\n\u001B[1;32m     54\u001B[0m         NumberSymbol, RealNumber, igcd, ilcm, seterr, E, I, nan, oo, pi, zoo,\n\u001B[1;32m     55\u001B[0m         AlgebraicNumber, comp, mod_inverse, Pow, integer_nthroot, integer_log,\n\u001B[1;32m     56\u001B[0m         Mul, prod, Add, Mod, Rel, Eq, Ne, Lt, Le, Gt, Ge, Equality,\n\u001B[1;32m     57\u001B[0m         GreaterThan, LessThan, Unequality, StrictGreaterThan, StrictLessThan,\n\u001B[1;32m     58\u001B[0m         vectorize, Lambda, WildFunction, Derivative, diff, FunctionClass,\n\u001B[1;32m     59\u001B[0m         Function, Subs, expand, PoleError, count_ops, expand_mul, expand_log,\n\u001B[1;32m     60\u001B[0m         expand_func, expand_trig, expand_complex, expand_multinomial, nfloat,\n\u001B[1;32m     61\u001B[0m         expand_power_base, expand_power_exp, arity, PrecisionExhausted, N,\n\u001B[1;32m     62\u001B[0m         evalf, Tuple, Dict, gcd_terms, factor_terms, factor_nc, evaluate,\n\u001B[1;32m     63\u001B[0m         Catalan, EulerGamma, GoldenRatio, TribonacciConstant, bottom_up, use,\n\u001B[1;32m     64\u001B[0m         postorder_traversal, default_sort_key, ordered)\n\u001B[1;32m     66\u001B[0m \u001B[38;5;28;01mfrom\u001B[39;00m \u001B[38;5;21;01m.\u001B[39;00m\u001B[38;5;21;01mlogic\u001B[39;00m \u001B[38;5;28;01mimport\u001B[39;00m (to_cnf, to_dnf, to_nnf, And, Or, Not, Xor, Nand, Nor,\n\u001B[1;32m     67\u001B[0m         Implies, Equivalent, ITE, POSform, SOPform, simplify_logic, bool_map,\n\u001B[1;32m     68\u001B[0m         true, false, satisfiable)\n\u001B[1;32m     70\u001B[0m \u001B[38;5;28;01mfrom\u001B[39;00m \u001B[38;5;21;01m.\u001B[39;00m\u001B[38;5;21;01massumptions\u001B[39;00m \u001B[38;5;28;01mimport\u001B[39;00m (AppliedPredicate, Predicate, AssumptionsContext,\n\u001B[1;32m     71\u001B[0m         assuming, Q, ask, register_handler, remove_handler, refine)\n",
      "File \u001B[0;32m~/stc/venv/lib/python3.10/site-packages/sympy/core/__init__.py:4\u001B[0m\n\u001B[1;32m      1\u001B[0m \u001B[38;5;124;03m\"\"\"Core module. Provides the basic operations needed in sympy.\u001B[39;00m\n\u001B[1;32m      2\u001B[0m \u001B[38;5;124;03m\"\"\"\u001B[39;00m\n\u001B[0;32m----> 4\u001B[0m \u001B[38;5;28;01mfrom\u001B[39;00m \u001B[38;5;21;01m.\u001B[39;00m\u001B[38;5;21;01msympify\u001B[39;00m \u001B[38;5;28;01mimport\u001B[39;00m sympify, SympifyError\n\u001B[1;32m      5\u001B[0m \u001B[38;5;28;01mfrom\u001B[39;00m \u001B[38;5;21;01m.\u001B[39;00m\u001B[38;5;21;01mcache\u001B[39;00m \u001B[38;5;28;01mimport\u001B[39;00m cacheit\n\u001B[1;32m      6\u001B[0m \u001B[38;5;28;01mfrom\u001B[39;00m \u001B[38;5;21;01m.\u001B[39;00m\u001B[38;5;21;01massumptions\u001B[39;00m \u001B[38;5;28;01mimport\u001B[39;00m assumptions, check_assumptions, failing_assumptions, common_assumptions\n",
      "File \u001B[0;32m~/stc/venv/lib/python3.10/site-packages/sympy/core/sympify.py:635\u001B[0m\n\u001B[1;32m    631\u001B[0m     \u001B[38;5;28;01mreturn\u001B[39;00m expr\n\u001B[1;32m    634\u001B[0m \u001B[38;5;66;03m# Avoid circular import\u001B[39;00m\n\u001B[0;32m--> 635\u001B[0m \u001B[38;5;28;01mfrom\u001B[39;00m \u001B[38;5;21;01m.\u001B[39;00m\u001B[38;5;21;01mbasic\u001B[39;00m \u001B[38;5;28;01mimport\u001B[39;00m Basic\n",
      "File \u001B[0;32m~/stc/venv/lib/python3.10/site-packages/sympy/core/basic.py:13\u001B[0m\n\u001B[1;32m     11\u001B[0m \u001B[38;5;28;01mfrom\u001B[39;00m \u001B[38;5;21;01m.\u001B[39;00m\u001B[38;5;21;01msympify\u001B[39;00m \u001B[38;5;28;01mimport\u001B[39;00m _sympify, sympify, SympifyError, _external_converter\n\u001B[1;32m     12\u001B[0m \u001B[38;5;28;01mfrom\u001B[39;00m \u001B[38;5;21;01m.\u001B[39;00m\u001B[38;5;21;01msorting\u001B[39;00m \u001B[38;5;28;01mimport\u001B[39;00m ordered\n\u001B[0;32m---> 13\u001B[0m \u001B[38;5;28;01mfrom\u001B[39;00m \u001B[38;5;21;01m.\u001B[39;00m\u001B[38;5;21;01mkind\u001B[39;00m \u001B[38;5;28;01mimport\u001B[39;00m Kind, UndefinedKind\n\u001B[1;32m     14\u001B[0m \u001B[38;5;28;01mfrom\u001B[39;00m \u001B[38;5;21;01m.\u001B[39;00m\u001B[38;5;21;01m_print_helpers\u001B[39;00m \u001B[38;5;28;01mimport\u001B[39;00m Printable\n\u001B[1;32m     16\u001B[0m \u001B[38;5;28;01mfrom\u001B[39;00m \u001B[38;5;21;01msympy\u001B[39;00m\u001B[38;5;21;01m.\u001B[39;00m\u001B[38;5;21;01mutilities\u001B[39;00m\u001B[38;5;21;01m.\u001B[39;00m\u001B[38;5;21;01mdecorator\u001B[39;00m \u001B[38;5;28;01mimport\u001B[39;00m deprecated\n",
      "File \u001B[0;32m<frozen importlib._bootstrap>:1027\u001B[0m, in \u001B[0;36m_find_and_load\u001B[0;34m(name, import_)\u001B[0m\n",
      "File \u001B[0;32m<frozen importlib._bootstrap>:1006\u001B[0m, in \u001B[0;36m_find_and_load_unlocked\u001B[0;34m(name, import_)\u001B[0m\n",
      "File \u001B[0;32m<frozen importlib._bootstrap>:674\u001B[0m, in \u001B[0;36m_load_unlocked\u001B[0;34m(spec)\u001B[0m\n",
      "File \u001B[0;32m<frozen importlib._bootstrap>:577\u001B[0m, in \u001B[0;36mmodule_from_spec\u001B[0;34m(spec)\u001B[0m\n",
      "File \u001B[0;32m<frozen importlib._bootstrap>:556\u001B[0m, in \u001B[0;36m_init_module_attrs\u001B[0;34m(spec, module, override)\u001B[0m\n",
      "File \u001B[0;32m<frozen importlib._bootstrap>:397\u001B[0m, in \u001B[0;36mcached\u001B[0;34m(self)\u001B[0m\n",
      "File \u001B[0;32m<frozen importlib._bootstrap_external>:513\u001B[0m, in \u001B[0;36m_get_cached\u001B[0;34m(filename)\u001B[0m\n",
      "File \u001B[0;32m<frozen importlib._bootstrap_external>:448\u001B[0m, in \u001B[0;36mcache_from_source\u001B[0;34m(path, debug_override, optimization)\u001B[0m\n",
      "File \u001B[0;32m<frozen importlib._bootstrap_external>:128\u001B[0m, in \u001B[0;36m_path_join\u001B[0;34m(*path_parts)\u001B[0m\n",
      "File \u001B[0;32m<frozen importlib._bootstrap_external>:128\u001B[0m, in \u001B[0;36m<listcomp>\u001B[0;34m(.0)\u001B[0m\n",
      "\u001B[0;31mKeyboardInterrupt\u001B[0m: "
     ]
    }
   ],
   "source": [
    "from InstructorEmbedding import INSTRUCTOR\n",
    "model = INSTRUCTOR('hkunlp/instructor-xl')"
   ],
   "metadata": {
    "collapsed": false
   }
  },
  {
   "cell_type": "code",
   "execution_count": null,
   "outputs": [],
   "source": [],
   "metadata": {
    "collapsed": false
   }
  }
 ],
 "metadata": {
  "kernelspec": {
   "display_name": "Python 3",
   "language": "python",
   "name": "python3"
  },
  "language_info": {
   "codemirror_mode": {
    "name": "ipython",
    "version": 2
   },
   "file_extension": ".py",
   "mimetype": "text/x-python",
   "name": "python",
   "nbconvert_exporter": "python",
   "pygments_lexer": "ipython2",
   "version": "2.7.6"
  }
 },
 "nbformat": 4,
 "nbformat_minor": 0
}
