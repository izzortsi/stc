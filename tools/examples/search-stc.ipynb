{
 "cells": [
  {
   "cell_type": "code",
   "execution_count": null,
   "metadata": {
    "collapsed": true
   },
   "outputs": [],
   "source": [
    "from stc_tools.client import StcTools\n",
    "client = StcTools(paths=(\n",
    "    '/ipns/standard-template-construct.org/data/nexus_books/',\n",
    "    '/ipns/standard-template-construct.org/data/nexus_science/',\n",
    "))\n",
    "# Connects to IPFS and instantiate configured indices for searching\n",
    "await client.setup()"
   ]
  },
  {
   "cell_type": "code",
   "execution_count": null,
   "outputs": [],
   "source": [
    "# Match search over books collection\n",
    "await client.search([{\n",
    "    \"index_alias\": \"nexus_books\",\n",
    "    \"query\": {\"query\": {\"match\": {\"value\": \"hemoglobin\", \"default_fields\": [\"title\"], \"field_boosts\": {}}}},\n",
    "    \"collectors\": [{\"collector\": {\"top_docs\": {\"limit\": 5}}}],\n",
    "    \"is_fieldnorms_scoring_enabled\": False,\n",
    "}])"
   ],
   "metadata": {
    "collapsed": false
   }
  },
  {
   "cell_type": "code",
   "execution_count": null,
   "outputs": [],
   "source": [
    "# Term search over science collection\n",
    "await client.search([{\n",
    "    \"index_alias\": \"nexus_science\",\n",
    "    \"query\": {\"query\": {\"term\": {\"field\": \"doi\", \"value\": \"10.1109/healthcom54947.2022.9982758\"}}},\n",
    "    \"collectors\": [{\"collector\": {\"top_docs\": {\"limit\": 1}}}],\n",
    "    \"is_fieldnorms_scoring_enabled\": False,\n",
    "}])"
   ],
   "metadata": {
    "collapsed": false
   }
  },
  {
   "cell_type": "code",
   "execution_count": null,
   "outputs": [],
   "source": [
    "# Complex query and count results too\n",
    "SHOULD = 0\n",
    "MUST = 1\n",
    "MUST_NOT = 2\n",
    "\n",
    "await client.search([{\n",
    "    \"index_alias\": \"nexus_science\",\n",
    "    \"query\": {\"query\": {\"boolean\": {\"subqueries\": [\n",
    "        {\"occur\": SHOULD, \"query\": {\"query\": {\"match\": {\"value\": \"hemoglobin\", \"default_fields\": [\"title\"], \"field_boosts\": {}}}}},\n",
    "        {\"occur\": SHOULD, \"query\": {\"query\": {\"match\": {\"value\": \"fetal\", \"default_fields\": [\"title\"], \"field_boosts\": {}}}}},\n",
    "    ]}}},\n",
    "    \"collectors\": [{\"collector\": {\"top_docs\": {\"limit\": 5}}}, {\"collector\": {\"count\": {}}}],\n",
    "    \"is_fieldnorms_scoring_enabled\": False,\n",
    "}])"
   ],
   "metadata": {
    "collapsed": false
   }
  }
 ],
 "metadata": {
  "kernelspec": {
   "display_name": "Python 3",
   "language": "python",
   "name": "python3"
  },
  "language_info": {
   "codemirror_mode": {
    "name": "ipython",
    "version": 2
   },
   "file_extension": ".py",
   "mimetype": "text/x-python",
   "name": "python",
   "nbconvert_exporter": "python",
   "pygments_lexer": "ipython2",
   "version": "2.7.6"
  }
 },
 "nbformat": 4,
 "nbformat_minor": 0
}
